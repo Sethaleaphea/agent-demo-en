{
 "cells": [
  {
   "cell_type": "code",
   "execution_count": 1,
   "metadata": {},
   "outputs": [
    {
     "name": "stdout",
     "output_type": "stream",
     "text": [
      "✅ 导出完成，保存在 neo4j_export.json\n"
     ]
    }
   ],
   "source": [
    "from neo4j import GraphDatabase\n",
    "import json\n",
    "\n",
    "# 初始化 Neo4j driver\n",
    "driver = GraphDatabase.driver(\"neo4j+s://5f494a0d.databases.neo4j.io\", auth=(\"neo4j\", \"JPvH9AyoJVJDlbOzUml3qfyA_oWutzcMfQCJI9qRCOY\"))\n",
    "\n",
    "data = {\n",
    "    \"nodes\": [],\n",
    "    \"edges\": []\n",
    "}\n",
    "\n",
    "with driver.session() as session:\n",
    "    # 获取所有节点\n",
    "    node_query = \"\"\"\n",
    "    MATCH (n)\n",
    "    RETURN n.id AS id, n.name AS name, labels(n) AS labels, properties(n) AS props\n",
    "    \"\"\"\n",
    "    node_result = session.run(node_query)\n",
    "    for record in node_result:\n",
    "        data[\"nodes\"].append({\n",
    "            \"id\": record[\"id\"],\n",
    "            \"name\": record[\"name\"],\n",
    "            \"labels\": record[\"labels\"],\n",
    "            \"properties\": record[\"props\"]\n",
    "        })\n",
    "\n",
    "    # 获取所有关系\n",
    "    edge_query = \"\"\"\n",
    "    MATCH (a)-[r]->(b)\n",
    "    RETURN a.id AS source, b.id AS target, type(r) AS type, properties(r) AS props\n",
    "    \"\"\"\n",
    "    edge_result = session.run(edge_query)\n",
    "    for record in edge_result:\n",
    "        data[\"edges\"].append({\n",
    "            \"source\": record[\"source\"],\n",
    "            \"target\": record[\"target\"],\n",
    "            \"type\": record[\"type\"],\n",
    "            \"properties\": record[\"props\"]\n",
    "        })\n",
    "\n",
    "# 保存为 JSON 文件\n",
    "with open(\"neo4j_export.json\", \"w\", encoding=\"utf-8\") as f:\n",
    "    json.dump(data, f, ensure_ascii=False, indent=2)\n",
    "\n",
    "print(\"✅ 导出完成，保存在 neo4j_export.json\")\n"
   ]
  }
 ],
 "metadata": {
  "kernelspec": {
   "display_name": "demo",
   "language": "python",
   "name": "python3"
  },
  "language_info": {
   "codemirror_mode": {
    "name": "ipython",
    "version": 3
   },
   "file_extension": ".py",
   "mimetype": "text/x-python",
   "name": "python",
   "nbconvert_exporter": "python",
   "pygments_lexer": "ipython3",
   "version": "3.9.21"
  }
 },
 "nbformat": 4,
 "nbformat_minor": 2
}
