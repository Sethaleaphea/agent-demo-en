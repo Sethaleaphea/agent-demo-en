{
 "cells": [
  {
   "cell_type": "code",
   "execution_count": 1,
   "metadata": {},
   "outputs": [],
   "source": [
    "# 1. 检索相似问题\n",
    "# 一个相似问题对应5个id\n",
    "\n",
    "# 2. 根据相似问题path标签获取文本块\n",
    "# 返回文本块\n"
   ]
  },
  {
   "cell_type": "code",
   "execution_count": 2,
   "metadata": {},
   "outputs": [],
   "source": [
    "from langchain_openai import ChatOpenAI, OpenAIEmbeddings\n",
    "\n",
    "llm = ChatOpenAI(\n",
    "    api_key=\"sk-EQY6oy2D9Brb2IWxymHTnmeFz5unIyobzHtjDgFs2ZwEPjmY\",\n",
    "    base_url=\"https://api.chatanywhere.tech/v1\",\n",
    "    model=\"gpt-4o-mini\",\n",
    "    temperature=0.35,\n",
    ")\n",
    "from langchain_core.messages import HumanMessage, SystemMessage\n",
    "from langchain.prompts import (\n",
    "    ChatPromptTemplate,\n",
    "    MessagesPlaceholder,\n",
    "    HumanMessagePromptTemplate,\n",
    "    SystemMessagePromptTemplate\n",
    ")"
   ]
  },
  {
   "cell_type": "code",
   "execution_count": 3,
   "metadata": {},
   "outputs": [
    {
     "name": "stderr",
     "output_type": "stream",
     "text": [
      "C:\\Users\\pixiu\\AppData\\Local\\Temp\\ipykernel_28568\\534697663.py:7: LangChainDeprecationWarning: The class `HuggingFaceEmbeddings` was deprecated in LangChain 0.2.2 and will be removed in 1.0. An updated version of the class exists in the :class:`~langchain-huggingface package and should be used instead. To use it run `pip install -U :class:`~langchain-huggingface` and import as `from :class:`~langchain_huggingface import HuggingFaceEmbeddings``.\n",
      "  embeddings = HuggingFaceEmbeddings(model_name=embedding_model_path)\n",
      "d:\\Python\\MiniConda\\envs\\itext2kg\\lib\\site-packages\\tqdm\\auto.py:21: TqdmWarning: IProgress not found. Please update jupyter and ipywidgets. See https://ipywidgets.readthedocs.io/en/stable/user_install.html\n",
      "  from .autonotebook import tqdm as notebook_tqdm\n"
     ]
    }
   ],
   "source": [
    "import faiss\n",
    "from langchain_community.docstore.in_memory import InMemoryDocstore\n",
    "from langchain_community.vectorstores import FAISS\n",
    "from langchain.embeddings import HuggingFaceEmbeddings\n",
    "\n",
    "embedding_model_path = r\"D:/Python/models/bge-large-zh-v1.5\"\n",
    "embeddings = HuggingFaceEmbeddings(model_name=embedding_model_path)"
   ]
  },
  {
   "cell_type": "code",
   "execution_count": 4,
   "metadata": {},
   "outputs": [],
   "source": [
    "from langchain_community.vectorstores import FAISS\n",
    "import pickle\n",
    "\n",
    "def loader_faiss(faiss_index_path, embeddings_model_path):\n",
    "    \"\"\"\n",
    "    加载 FAISS 索引\n",
    "    :param faiss_index_path: FAISS 索引路径\n",
    "    :param embeddings_model_path: 嵌入模型路径\n",
    "    :return: FAISS 向量数据库对象\n",
    "    \"\"\"\n",
    "    # 加载 FAISS 索引\n",
    "    index = faiss.read_index(faiss_index_path + 'faiss_index.index')\n",
    "    with open(faiss_index_path + \"docstore.pkl\", \"rb\") as f:\n",
    "        docstore = pickle.load(f)\n",
    "\n",
    "    with open(faiss_index_path + \"index_to_docstore_id.pkl\", \"rb\") as f:\n",
    "        index_to_docstore_id = pickle.load(f)\n",
    "\n",
    "    # 从加载的索引创建 FAISS 向量数据库\n",
    "    vector_store_loaded = FAISS(\n",
    "        embedding_function=HuggingFaceEmbeddings(model_name=embeddings_model_path),\n",
    "        index=index,\n",
    "        docstore=docstore,\n",
    "        index_to_docstore_id=index_to_docstore_id\n",
    "    )\n",
    "    return vector_store_loaded"
   ]
  },
  {
   "cell_type": "code",
   "execution_count": 5,
   "metadata": {},
   "outputs": [
    {
     "name": "stdout",
     "output_type": "stream",
     "text": [
      "page_content='在教师专业知识结构中，[[本体性知识/学科知识]]是指教师具有的特定的学科知识，是教师知识结构的核心。nan' metadata={'difficult_value_id': 2.0, 'knowledge_point_ids': '367611176748560399_wx', 'path': '[[2005, 3015, 188, 190, 196], [2005, 3015, 188, 190, 196, 198], [2005, 3015, 212, 213, 215, 216], [2005, 3015, 188, 190, 196, 200], [2005, 3015, 188, 190, 196, 197]]', 'answer': '[\"本体性知识\\\\/学科知识\"]', 'analysis': nan}\n",
      "page_content='[[学科教学知识]]又称为教学内容知识，这是教师专业知识的核心、重要而最有用的成分。nan' metadata={'difficult_value_id': 2.0, 'knowledge_point_ids': '367611176748560399_wx', 'path': '[[2005, 3015, 188, 190, 196, 199], [2005, 3015, 188, 190, 196, 198], [2005, 3015, 188, 190, 196, 197], [2005, 3015, 188, 190, 196], [2005, 3015, 212, 213, 215, 216]]', 'answer': '[\"学科教学知识\"]', 'analysis': nan}\n",
      "page_content='教师专业知识主要包括本体性知识、[[条件性知识]]、实践性知识和一般文化知识。nan' metadata={'difficult_value_id': 2.0, 'knowledge_point_ids': '367611176748560399_wx', 'path': '[[2005, 3015, 188, 190, 196], [2005, 3015, 212, 213, 215, 216], [2005, 3015, 188, 190, 196, 198], [2005, 3015, 188, 190, 196, 200], [2005, 3015, 212, 220, 221]]', 'answer': '[\"条件性知识\"]', 'analysis': nan}\n",
      "page_content='教师专业发展主要是指专业知识的发展。nan' metadata={'difficult_value_id': 2.0, 'knowledge_point_ids': '367611176748560399_wx', 'path': '[[2005, 3015, 212, 213, 214], [2005, 3015, 212, 220, 223], [2005, 3015, 188, 189], [2005, 3015, 188, 190, 202], [2005, 3015, 212]]', 'answer': '[\"这种说法是错误的。教师专业发展主要包括专业知识、专业才能和专业情意三方面的发展。专业知识的发展，即教师从事教学工作所必需的普通文化知识、所教学科知识、教育学科知识的不断累积、重组和更新。专业才能的发展，即教师从事教学工作必须具备的教学技能的掌握、娴熟及教学能力的形成、提高。专业情意的发展，即教师专业理想的树立、专业情操的养成、专业性向的调适和专业自我的建立。\"]', 'analysis': nan}\n",
      "page_content='教师掌握的，诸如教育基本理论、心理学基本理论、教育科学研究以及现代教育技术等知识，属于[[教育科学知识]]。nan' metadata={'difficult_value_id': 2.0, 'knowledge_point_ids': '367611176748560399_wx', 'path': '[[2005, 3015, 188, 190, 196, 197], [2005, 3015, 188, 190, 196, 198], [2005, 3015, 188, 190, 196, 199], [2005, 3015, 188, 190, 196, 200], [2005, 3015, 212, 213, 215, 216]]', 'answer': '[\"教育科学知识\"]', 'analysis': nan}\n"
     ]
    }
   ],
   "source": [
    "embeddings_model_path = r\"D:/Python/models/bge-large-zh-v1.5\"\n",
    "q_index_path = 'D:\\\\code\\\\agent_demo\\\\kg\\\\make_index\\\\questions\\\\'\n",
    "c_index_path = 'D:\\\\code\\\\agent_demo\\\\kg\\\\make_index\\\\book\\\\'\n",
    "q_vector_store_loaded = loader_faiss(q_index_path, embeddings_model_path)\n",
    "c_vector_store_loaded = loader_faiss(c_index_path, embeddings_model_path)\n",
    "\n",
    "# 现在，你可以进行搜索\n",
    "query = \"学科知识是教师所应具备的专业知识的主体。\"\n",
    "search_results = q_vector_store_loaded.similarity_search(query, k=5)  # k 是返回的结果数量\n",
    "# 打印搜索结果\n",
    "for result in search_results:\n",
    "    print(result)"
   ]
  },
  {
   "cell_type": "code",
   "execution_count": 8,
   "metadata": {},
   "outputs": [],
   "source": [
    "def get_concept_by_question(question, embedding_model_path, q_index_path, c_index_path, k=3):\n",
    "    \"\"\"\n",
    "    根据问题获取概念\n",
    "    :param question: 问题\n",
    "    :param vector_store_loaded: 向量数据库对象\n",
    "    :param k: 返回的结果数量\n",
    "    :return: 概念列表\n",
    "    \"\"\"\n",
    "    q_vector_store_loaded = loader_faiss(q_index_path, embeddings_model_path)\n",
    "    c_vector_store_loaded = loader_faiss(c_index_path, embeddings_model_path)\n",
    "    \n",
    "    import json\n",
    "    with open(\"neo4j_export.json\", \"r\", encoding=\"utf-8\") as f:\n",
    "        data = json.load(f)\n",
    "    \n",
    "    node_dict = {node[\"id\"]: node for node in data[\"nodes\"]}\n",
    "\n",
    "    # 进行相似性搜索\n",
    "    sim_q = q_vector_store_loaded.similarity_search(question, k=k)\n",
    "    # sim_c = c_vector_store_loaded.similarity_search(question, k=k)\n",
    "\n",
    "    source_list = []\n",
    "    for q in sim_q:\n",
    "        # 获取问题的ID\n",
    "        import ast\n",
    "        meatdata = q.metadata\n",
    "        path = ast.literal_eval(meatdata[\"path\"])\n",
    "        for p in path:\n",
    "            source_list.append(p)\n",
    "\n",
    "    result_list = []\n",
    "    from collections import Counter\n",
    "    # 先把每个 list 转成 tuple，用来计数\n",
    "    source_tuples = [tuple(x) for x in source_list]\n",
    "    # 用 Counter 统计频率\n",
    "    counter = Counter(source_tuples)\n",
    "    # 按出现次数排序，并再转回 list\n",
    "    sorted_unique_sources = [list(item) for item, count in counter.most_common()]\n",
    "    for path in sorted_unique_sources:\n",
    "        # 获取问题的ID\n",
    "        source_id = path[-1]\n",
    "        print(path)\n",
    "        c_node = node_dict[source_id]\n",
    "        \n",
    "        node1 = node_dict[path[0]]\n",
    "        node2 = node_dict[path[1]]\n",
    "        path_str = '第' + str(node1['properties']['num']) + '章' + node1['properties']['title'] + '\\n'\n",
    "        path_str += '第' + str(node2['properties']['num']) + '节' + node2['properties']['title'] + '\\n'\n",
    "        for p in path[2:]:\n",
    "            node = node_dict[p]\n",
    "            path_str += '----' + node['properties']['name'] + '----\\n'\n",
    "        \n",
    "        result_list.append((c_node['properties']['name'] + c_node['properties']['page_content'], path_str))\n",
    "\n",
    "    return result_list\n"
   ]
  },
  {
   "cell_type": "code",
   "execution_count": 9,
   "metadata": {},
   "outputs": [
    {
     "name": "stdout",
     "output_type": "stream",
     "text": [
      "[2005, 3015, 188, 190, 196]\n",
      "[2005, 3015, 188, 190, 196, 198]\n",
      "[2005, 3015, 212, 213, 215, 216]\n",
      "[2005, 3015, 188, 190, 196, 200]\n",
      "[2005, 3015, 188, 190, 196, 197]\n",
      "[2005, 3015, 188, 190, 196, 199]\n",
      "[2005, 3015, 212, 220, 221]\n",
      "[('专业知识\\n教师的专业知识是教师职业区别于其他职业的理论体系与经验系统。教师专业知识的质的深化，体现了教师职业的专业性，它是衡量教师专业化程度的标志之一。教师应具备以下几方面的知识。', '第6章教师\\n第2节教师的专业素养与专业发展\\n----教师的专业素养----\\n----教师专业素养的结构----\\n----专业知识----\\n'), ('学科知识\\n学科知识是教师所应具备的专业知识的主体。教师要想顺利完成某一学科复杂的教学活动，必须对该学科的内容有深入透彻的了解，精通该学科的知识。教师不仅要理解和掌握所教学科的基本事实、概念、原理、理论和学科框架以及探究或思维的方式，还要了解和熟练掌握所教学科的最新发展以及与其他学科和社会实践的联系。', '第6章教师\\n第2节教师的专业素养与专业发展\\n----教师的专业素养----\\n----教师专业素养的结构----\\n----专业知识----\\n----学科知识----\\n'), ('教育知识技能的体系化。即形成一套关于教育教学的专业知识技能体系，作为教师教育的内容和教师从事教育教学工作的依据。教师职业专业化的知识技能体系既包括学科专业知识技能，也包括教育专业知识技能。', '第6章教师\\n第2节教师的专业素养与专业发展\\n----教师专业发展----\\n----教师专业发展概述----\\n----教师群体专业化----\\n----教育知识技能的体系化----\\n'), ('通识性知识\\n通识性知识是教师应具备的基础知识，包括自然学科、人文社会学科、人文艺术学科以及适应教育内容、教学手段和方法现代化的信息技术知识。广博的文化修养具有陶冶人文精神、养成人文素养的内在价值。教师拥有广博的一般文化科学知识，能够适应学生的好奇心和求知欲，拓展学生的精神世界，发展学生智慧，从而使学生内心体验到“真、善、美”的价值追求。\\n在教师的知识结构中，学科知识是教师专业知识结构中的“本体性知识”，教育科学知识和学科教学知识属于教师专业知识结构中的“条件性知识”，通识性知识属于教师专业知识结构中的基础层面，是处于奠基层面的“综合性知识”。', '第6章教师\\n第2节教师的专业素养与专业发展\\n----教师的专业素养----\\n----教师专业素养的结构----\\n----专业知识----\\n----通识性知识----\\n'), ('教育科学知识\\n它是教师应具备的重要知识。教育科学知识包括教育基本理论、心理学基本理论、德育论、教学论、教育心理学、教育科学研究、现代教育技术等，这是教师发展的必然要求。', '第6章教师\\n第2节教师的专业素养与专业发展\\n----教师的专业素养----\\n----教师专业素养的结构----\\n----专业知识----\\n----教育科学知识----\\n'), ('学科教学知识\\n学科教学知识又称教学内容知识，这是教师专业知识的核心、重要而最有用的成分，是一种使得学科教师与学科专家有所区别的专门知识。美国斯坦福大学教授舒尔曼创造性地提出了学科教学知识概念，学科内容与教育理论之间的关系引起了研究者的广泛关注。舒尔曼认为教师必备的知识至少应该包括：学科内容知识；一般教学法知识；课程知识；学科教学知识；有关学生及其特性的知识；有关教育脉络的知识；有关教育的目的、目标、价值、哲学与历史渊源的知识。\\n学科教学知识具体表现为教师掌握所教学科课程标准，掌握所教学科课程资源开发的主要方法与策略，了解中学生在学习具体学科内容时的认知特点，掌握针对具体学科内容进行教学的方法与策略。', '第6章教师\\n第2节教师的专业素养与专业发展\\n----教师的专业素养----\\n----教师专业素养的结构----\\n----专业知识----\\n----学科教学知识----\\n'), ('专业知识的发展。即教师从事教学工作所必需的普通文化知识、所教学科知识、教育学科知识的不断累积、重组和更新。', '第6章教师\\n第2节教师的专业素养与专业发展\\n----教师专业发展----\\n----教师专业发展的内容----\\n----专业知识的发展----\\n')]\n"
     ]
    }
   ],
   "source": [
    "query = \"学科知识是教师所应具备的专业知识的主体。\"\n",
    "result = get_concept_by_question(query, embeddings_model_path, q_index_path, c_index_path, k=3)\n",
    "print(result)"
   ]
  }
 ],
 "metadata": {
  "kernelspec": {
   "display_name": "itext2kg",
   "language": "python",
   "name": "python3"
  },
  "language_info": {
   "codemirror_mode": {
    "name": "ipython",
    "version": 3
   },
   "file_extension": ".py",
   "mimetype": "text/x-python",
   "name": "python",
   "nbconvert_exporter": "python",
   "pygments_lexer": "ipython3",
   "version": "3.10.16"
  }
 },
 "nbformat": 4,
 "nbformat_minor": 2
}
