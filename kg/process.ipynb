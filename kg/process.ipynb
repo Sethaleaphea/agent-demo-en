{
 "cells": [
  {
   "cell_type": "code",
   "execution_count": 7,
   "metadata": {},
   "outputs": [
    {
     "name": "stdout",
     "output_type": "stream",
     "text": [
      "第一章 教育与教育学 第一节 教育概述 第二节 教育学概述 第二章 教育与发展 第一节 教育的产生与发展 第二节 教育与人的发展 第三节 教育与社会发展 第四节 全民教育与终身学习 第三章 教育目的 第一节 教育目的的意义与性质 第二节 教育目的的价值取向 第三节 中国教育目的的发展 第四章 教育制度与教育政策 第一节 教育制度概述 第二节 中国教育制度 第三节 中国教育政策 第五章 学生及其发展 第一节 学生 第二节 学生发展与教育 第六章 教师 第一节 教师职业概述 第二节 教师的专业素养与专业发展 第三节 教师学习共同体与教师发展 第七章 课程与课程开发 第一节 课程概述 第二节 课程开发 第八章 课程与教学实施 第一节 课程实施 第二节 教学过程 第三节 教学原则 第四节 教学方法 第五节 教学设计 第六节 教学工作的基本环节 第九章 学校德育 第一节 德育概述 第二节 德育的内容与原则 第三节 德育过程 第四节 德育方法与途径 第五节 德育模式 第六节 德育资源 第十章 教育测量与评价 第一节 教育测量 第二节 教育评价 第三节 学生评价 第十一章 教育研究方法 第一节 教育研究概述 第二节 中小学教师常用的研究方法\n"
     ]
    }
   ],
   "source": [
    "with open(\"目录.txt\", \"r\", encoding=\"utf-8\") as file:\n",
    "    text = file.read()\n",
    "print(text)"
   ]
  },
  {
   "cell_type": "code",
   "execution_count": null,
   "metadata": {},
   "outputs": [],
   "source": []
  },
  {
   "cell_type": "code",
   "execution_count": 8,
   "metadata": {},
   "outputs": [
    {
     "name": "stdout",
     "output_type": "stream",
     "text": [
      "第一章 教育与教育学 第一节 教育概述 第二节 教育学概述 第二章 教育与发展 第一节 教育的产生与发展 第二节 教育与人的发展 第三节 教育与社会发展 第四节 全民教育与终身学习 第三章 教育目的 第一节 教育目的的意义与性质 第二节 教育目的的价值取向 第三节 中国教育目的的发展 第四章 教育制度与教育政策 第一节 教育制度概述 第二节 中国教育制度 第三节 中国教育政策 第五章 学生及其发展 第一节 学生 第二节 学生发展与教育 第六章 教师 第一节 教师职业概述 第二节 教师的专业素养与专业发展 第三节 教师学习共同体与教师发展 第七章 课程与课程开发 第一节 课程概述 第二节 课程开发 第八章 课程与教学实施 第一节 课程实施 第二节 教学过程 第三节 教学原则 第四节 教学方法 第五节 教学设计 第六节 教学工作的基本环节 第九章 学校德育 第一节 德育概述 第二节 德育的内容与原则 第三节 德育过程 第四节 德育方法与途径 第五节 德育模式 第六节 德育资源 第十章 教育测量与评价 第一节 教育测量 第二节 教育评价 第三节 学生评价 第十一章 教育研究方法 第一节 教育研究概述 第二节 中小学教师常用的研究方法\n"
     ]
    }
   ],
   "source": [
    "text = text.replace(\"·\", \"\").replace(\".\", \"\").replace('…', \"\")\n",
    "print(text)"
   ]
  },
  {
   "cell_type": "code",
   "execution_count": 9,
   "metadata": {},
   "outputs": [
    {
     "name": "stdout",
     "output_type": "stream",
     "text": [
      "第一章 教育与教育学 第一节 教育概述 第二节 教育学概述 第二章 教育与发展 第一节 教育的产生与发展 第二节 教育与人的发展 第三节 教育与社会发展 第四节 全民教育与终身学习 第三章 教育目的 第一节 教育目的的意义与性质 第二节 教育目的的价值取向 第三节 中国教育目的的发展 第四章 教育制度与教育政策 第一节 教育制度概述 第二节 中国教育制度 第三节 中国教育政策 第五章 学生及其发展 第一节 学生 第二节 学生发展与教育 第六章 教师 第一节 教师职业概述 第二节 教师的专业素养与专业发展 第三节 教师学习共同体与教师发展 第七章 课程与课程开发 第一节 课程概述 第二节 课程开发 第八章 课程与教学实施 第一节 课程实施 第二节 教学过程 第三节 教学原则 第四节 教学方法 第五节 教学设计 第六节 教学工作的基本环节 第九章 学校德育 第一节 德育概述 第二节 德育的内容与原则 第三节 德育过程 第四节 德育方法与途径 第五节 德育模式 第六节 德育资源 第十章 教育测量与评价 第一节 教育测量 第二节 教育评价 第三节 学生评价 第十一章 教育研究方法 第一节 教育研究概述 第二节 中小学教师常用的研究方法\n"
     ]
    }
   ],
   "source": [
    "# 小库提醒 256 小库导学 256 小库课堂 256 默而识之 266 查而知之 267 小库考场 268 答案在线 269\n",
    "import re\n",
    "text = text.replace(\"小库提醒\", \"\").replace(\"小库导学\", \"\").replace(\"小库课堂\", \"\").replace(\"默而识之\", \"\").replace(\"查而知之\", \"\").replace(\"小库考场\", \"\").replace(\"答案在线\", \"\")\n",
    "clean_text = re.sub(r'\\d+', '', text)\n",
    "clean_text = clean_text.replace(\"\\n\", \"\")\n",
    "clean_text = re.sub(r'\\s+', ' ', clean_text).strip()\n",
    "print(clean_text)\n",
    "\n",
    "# 保存到目录.txt\n",
    "with open(\"目录.txt\", \"w\", encoding=\"utf-8\") as file:\n",
    "    file.write(clean_text)"
   ]
  },
  {
   "cell_type": "code",
   "execution_count": 10,
   "metadata": {},
   "outputs": [
    {
     "name": "stdout",
     "output_type": "stream",
     "text": [
      "📄 文档已根据节划分并保存！\n"
     ]
    }
   ],
   "source": [
    "import re\n",
    "import os\n",
    "\n",
    "# 📌 完整文档内容 (假设已经加载成一个字符串)\n",
    "with open(\"edu.txt\", \"r\", encoding=\"utf-8\") as file:\n",
    "    full_document = file.read()\n",
    "\n",
    "# 📌 目录信息（假设是按节划分）\n",
    "with open(\"目录.txt\", \"r\", encoding=\"utf-8\") as file:\n",
    "    directory = file.read()\n",
    "\n",
    "# 1. 解析目录信息 (提取章和节信息)\n",
    "pattern = r\"(第[一二三四五六七八九十\\d]+章\\s+[^第]+)|(第[一二三四五六七八九十\\d]+节\\s+[^第]+)\"\n",
    "matches = re.findall(pattern, directory)\n",
    "\n",
    "# 存储章和节信息\n",
    "chapters = []  # 章列表\n",
    "sections = []  # 节列表\n",
    "\n",
    "current_chapter = None\n",
    "for match in matches:\n",
    "    chapter_match, section_match = match\n",
    "\n",
    "    # 如果是章\n",
    "    if chapter_match:\n",
    "        chapter_title = chapter_match.strip()\n",
    "        chapters.append(chapter_title)\n",
    "        current_chapter = chapter_title\n",
    "\n",
    "    # 如果是节\n",
    "    if section_match:\n",
    "        section_title = section_match.strip()\n",
    "        sections.append((current_chapter, section_title))\n",
    "\n",
    "# 2. 按照节划分文档并保存为文件\n",
    "output_dir = 'output'  # 保存文件的目录\n",
    "os.makedirs(output_dir, exist_ok=True)\n",
    "\n",
    "# 假设每节内容在文档中的位置已经标识\n",
    "for chapter, section in sections:\n",
    "    # 提取节的内容（根据节标题找到相应的内容）\n",
    "    pattern = f\"({section}.*?)({sections[sections.index((chapter, section)) + 1][1] if (chapter, section) != sections[-1] else '$'})\"\n",
    "    section_content = re.search(pattern, full_document, re.DOTALL)\n",
    "\n",
    "    if section_content:\n",
    "        content = section_content.group(1).strip()\n",
    "        \n",
    "        index = content.find('默而识之')\n",
    "        if index != -1:\n",
    "            content = content[:index]\n",
    "        else:\n",
    "            content = content\n",
    "\n",
    "        # 保存为文档\n",
    "        filename = f\"{output_dir}/{sections.index((chapter, section)) + 1}_{section}.txt\"\n",
    "        with open(filename, 'w', encoding='utf-8') as f:\n",
    "            f.write(content)\n",
    "\n",
    "print(\"📄 文档已根据节划分并保存！\")\n"
   ]
  },
  {
   "cell_type": "code",
   "execution_count": 4,
   "metadata": {},
   "outputs": [
    {
     "name": "stdout",
     "output_type": "stream",
     "text": [
      "6455\n"
     ]
    }
   ],
   "source": []
  }
 ],
 "metadata": {
  "kernelspec": {
   "display_name": "itext2kg",
   "language": "python",
   "name": "python3"
  },
  "language_info": {
   "codemirror_mode": {
    "name": "ipython",
    "version": 3
   },
   "file_extension": ".py",
   "mimetype": "text/x-python",
   "name": "python",
   "nbconvert_exporter": "python",
   "pygments_lexer": "ipython3",
   "version": "3.10.16"
  }
 },
 "nbformat": 4,
 "nbformat_minor": 2
}
